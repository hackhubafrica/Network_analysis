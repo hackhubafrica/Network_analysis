{
 "cells": [
  {
   "cell_type": "code",
   "execution_count": 4,
   "id": "3f779107-4026-4993-809c-d3f184f8c01f",
   "metadata": {},
   "outputs": [
    {
     "ename": "PermissionError",
     "evalue": "[Errno 1] Operation not permitted",
     "output_type": "error",
     "traceback": [
      "\u001b[0;31m---------------------------------------------------------------------------\u001b[0m",
      "\u001b[0;31mPermissionError\u001b[0m                           Traceback (most recent call last)",
      "Cell \u001b[0;32mIn[4], line 20\u001b[0m\n\u001b[1;32m     17\u001b[0m                 \u001b[38;5;28mprint\u001b[39m(\u001b[38;5;124mf\u001b[39m\u001b[38;5;124m\"\u001b[39m\u001b[38;5;124mPotential SYN Flood detected from \u001b[39m\u001b[38;5;132;01m{\u001b[39;00msrc_ip\u001b[38;5;132;01m}\u001b[39;00m\u001b[38;5;124m!\u001b[39m\u001b[38;5;124m\"\u001b[39m)\n\u001b[1;32m     19\u001b[0m \u001b[38;5;66;03m# Start sniffing and apply the callback\u001b[39;00m\n\u001b[0;32m---> 20\u001b[0m \u001b[43msniff\u001b[49m\u001b[43m(\u001b[49m\u001b[38;5;28;43mfilter\u001b[39;49m\u001b[38;5;241;43m=\u001b[39;49m\u001b[38;5;124;43m\"\u001b[39;49m\u001b[38;5;124;43mtcp\u001b[39;49m\u001b[38;5;124;43m\"\u001b[39;49m\u001b[43m,\u001b[49m\u001b[43m \u001b[49m\u001b[43mprn\u001b[49m\u001b[38;5;241;43m=\u001b[39;49m\u001b[43mpacket_callback\u001b[49m\u001b[43m,\u001b[49m\u001b[43m \u001b[49m\u001b[43mcount\u001b[49m\u001b[38;5;241;43m=\u001b[39;49m\u001b[38;5;241;43m1000\u001b[39;49m\u001b[43m)\u001b[49m\n",
      "File \u001b[0;32m~/.local/lib/python3.12/site-packages/scapy/sendrecv.py:1311\u001b[0m, in \u001b[0;36msniff\u001b[0;34m(*args, **kwargs)\u001b[0m\n\u001b[1;32m   1307\u001b[0m \u001b[38;5;129m@conf\u001b[39m\u001b[38;5;241m.\u001b[39mcommands\u001b[38;5;241m.\u001b[39mregister\n\u001b[1;32m   1308\u001b[0m \u001b[38;5;28;01mdef\u001b[39;00m \u001b[38;5;21msniff\u001b[39m(\u001b[38;5;241m*\u001b[39margs, \u001b[38;5;241m*\u001b[39m\u001b[38;5;241m*\u001b[39mkwargs):\n\u001b[1;32m   1309\u001b[0m     \u001b[38;5;66;03m# type: (*Any, **Any) -> PacketList\u001b[39;00m\n\u001b[1;32m   1310\u001b[0m     sniffer \u001b[38;5;241m=\u001b[39m AsyncSniffer()\n\u001b[0;32m-> 1311\u001b[0m     \u001b[43msniffer\u001b[49m\u001b[38;5;241;43m.\u001b[39;49m\u001b[43m_run\u001b[49m\u001b[43m(\u001b[49m\u001b[38;5;241;43m*\u001b[39;49m\u001b[43margs\u001b[49m\u001b[43m,\u001b[49m\u001b[43m \u001b[49m\u001b[38;5;241;43m*\u001b[39;49m\u001b[38;5;241;43m*\u001b[39;49m\u001b[43mkwargs\u001b[49m\u001b[43m)\u001b[49m\n\u001b[1;32m   1312\u001b[0m     \u001b[38;5;28;01mreturn\u001b[39;00m cast(PacketList, sniffer\u001b[38;5;241m.\u001b[39mresults)\n",
      "File \u001b[0;32m~/.local/lib/python3.12/site-packages/scapy/sendrecv.py:1171\u001b[0m, in \u001b[0;36mAsyncSniffer._run\u001b[0;34m(self, count, store, offline, quiet, prn, lfilter, L2socket, timeout, opened_socket, stop_filter, iface, started_callback, session, session_kwargs, **karg)\u001b[0m\n\u001b[1;32m   1169\u001b[0m     \u001b[38;5;28;01melse\u001b[39;00m:\n\u001b[1;32m   1170\u001b[0m         iface \u001b[38;5;241m=\u001b[39m iface \u001b[38;5;129;01mor\u001b[39;00m conf\u001b[38;5;241m.\u001b[39miface\n\u001b[0;32m-> 1171\u001b[0m         sniff_sockets[\u001b[43m_RL2\u001b[49m\u001b[43m(\u001b[49m\u001b[43miface\u001b[49m\u001b[43m)\u001b[49m\u001b[43m(\u001b[49m\u001b[38;5;28;43mtype\u001b[39;49m\u001b[38;5;241;43m=\u001b[39;49m\u001b[43mETH_P_ALL\u001b[49m\u001b[43m,\u001b[49m\u001b[43m \u001b[49m\u001b[43miface\u001b[49m\u001b[38;5;241;43m=\u001b[39;49m\u001b[43miface\u001b[49m\u001b[43m,\u001b[49m\n\u001b[1;32m   1172\u001b[0m \u001b[43m                                  \u001b[49m\u001b[38;5;241;43m*\u001b[39;49m\u001b[38;5;241;43m*\u001b[39;49m\u001b[43mkarg\u001b[49m\u001b[43m)\u001b[49m] \u001b[38;5;241m=\u001b[39m iface\n\u001b[1;32m   1174\u001b[0m \u001b[38;5;66;03m# Get select information from the sockets\u001b[39;00m\n\u001b[1;32m   1175\u001b[0m _main_socket \u001b[38;5;241m=\u001b[39m \u001b[38;5;28mnext\u001b[39m(\u001b[38;5;28miter\u001b[39m(sniff_sockets))\n",
      "File \u001b[0;32m~/.local/lib/python3.12/site-packages/scapy/arch/linux.py:484\u001b[0m, in \u001b[0;36mL2Socket.__init__\u001b[0;34m(self, iface, type, promisc, filter, nofilter, monitor)\u001b[0m\n\u001b[1;32m    482\u001b[0m \u001b[38;5;28mself\u001b[39m\u001b[38;5;241m.\u001b[39mtype \u001b[38;5;241m=\u001b[39m \u001b[38;5;28mtype\u001b[39m\n\u001b[1;32m    483\u001b[0m \u001b[38;5;28mself\u001b[39m\u001b[38;5;241m.\u001b[39mpromisc \u001b[38;5;241m=\u001b[39m conf\u001b[38;5;241m.\u001b[39msniff_promisc \u001b[38;5;28;01mif\u001b[39;00m promisc \u001b[38;5;129;01mis\u001b[39;00m \u001b[38;5;28;01mNone\u001b[39;00m \u001b[38;5;28;01melse\u001b[39;00m promisc\n\u001b[0;32m--> 484\u001b[0m \u001b[38;5;28mself\u001b[39m\u001b[38;5;241m.\u001b[39mins \u001b[38;5;241m=\u001b[39m \u001b[43msocket\u001b[49m\u001b[38;5;241;43m.\u001b[39;49m\u001b[43msocket\u001b[49m\u001b[43m(\u001b[49m\n\u001b[1;32m    485\u001b[0m \u001b[43m    \u001b[49m\u001b[43msocket\u001b[49m\u001b[38;5;241;43m.\u001b[39;49m\u001b[43mAF_PACKET\u001b[49m\u001b[43m,\u001b[49m\u001b[43m \u001b[49m\u001b[43msocket\u001b[49m\u001b[38;5;241;43m.\u001b[39;49m\u001b[43mSOCK_RAW\u001b[49m\u001b[43m,\u001b[49m\u001b[43m \u001b[49m\u001b[43msocket\u001b[49m\u001b[38;5;241;43m.\u001b[39;49m\u001b[43mhtons\u001b[49m\u001b[43m(\u001b[49m\u001b[38;5;28;43mtype\u001b[39;49m\u001b[43m)\u001b[49m\u001b[43m)\u001b[49m\n\u001b[1;32m    486\u001b[0m \u001b[38;5;28mself\u001b[39m\u001b[38;5;241m.\u001b[39mins\u001b[38;5;241m.\u001b[39msetsockopt(socket\u001b[38;5;241m.\u001b[39mSOL_SOCKET, socket\u001b[38;5;241m.\u001b[39mSO_RCVBUF, \u001b[38;5;241m0\u001b[39m)\n\u001b[1;32m    487\u001b[0m \u001b[38;5;28;01mif\u001b[39;00m \u001b[38;5;129;01mnot\u001b[39;00m nofilter:\n",
      "File \u001b[0;32m/usr/lib64/python3.12/socket.py:233\u001b[0m, in \u001b[0;36msocket.__init__\u001b[0;34m(self, family, type, proto, fileno)\u001b[0m\n\u001b[1;32m    231\u001b[0m     \u001b[38;5;28;01mif\u001b[39;00m proto \u001b[38;5;241m==\u001b[39m \u001b[38;5;241m-\u001b[39m\u001b[38;5;241m1\u001b[39m:\n\u001b[1;32m    232\u001b[0m         proto \u001b[38;5;241m=\u001b[39m \u001b[38;5;241m0\u001b[39m\n\u001b[0;32m--> 233\u001b[0m \u001b[43m_socket\u001b[49m\u001b[38;5;241;43m.\u001b[39;49m\u001b[43msocket\u001b[49m\u001b[38;5;241;43m.\u001b[39;49m\u001b[38;5;21;43m__init__\u001b[39;49m\u001b[43m(\u001b[49m\u001b[38;5;28;43mself\u001b[39;49m\u001b[43m,\u001b[49m\u001b[43m \u001b[49m\u001b[43mfamily\u001b[49m\u001b[43m,\u001b[49m\u001b[43m \u001b[49m\u001b[38;5;28;43mtype\u001b[39;49m\u001b[43m,\u001b[49m\u001b[43m \u001b[49m\u001b[43mproto\u001b[49m\u001b[43m,\u001b[49m\u001b[43m \u001b[49m\u001b[43mfileno\u001b[49m\u001b[43m)\u001b[49m\n\u001b[1;32m    234\u001b[0m \u001b[38;5;28mself\u001b[39m\u001b[38;5;241m.\u001b[39m_io_refs \u001b[38;5;241m=\u001b[39m \u001b[38;5;241m0\u001b[39m\n\u001b[1;32m    235\u001b[0m \u001b[38;5;28mself\u001b[39m\u001b[38;5;241m.\u001b[39m_closed \u001b[38;5;241m=\u001b[39m \u001b[38;5;28;01mFalse\u001b[39;00m\n",
      "\u001b[0;31mPermissionError\u001b[0m: [Errno 1] Operation not permitted"
     ]
    }
   ],
   "source": [
    "from scapy.all import sniff, IP, TCP\n",
    "\n",
    "# Dictionary to store count of SYN requests from each IP\n",
    "syn_count = {}\n",
    "\n",
    "def packet_callback(packet):\n",
    "    if packet.haslayer(TCP):\n",
    "        if packet[TCP].flags == 'S':  # SYN flag\n",
    "            src_ip = packet[IP].src\n",
    "            if src_ip in syn_count:\n",
    "                syn_count[src_ip] += 1\n",
    "            else:\n",
    "                syn_count[src_ip] = 1\n",
    "            \n",
    "            # Example condition: Flag if more than 100 SYN packets from the same IP\n",
    "            if syn_count[src_ip] > 100:\n",
    "                print(f\"Potential SYN Flood detected from {src_ip}!\")\n",
    "\n",
    "# Start sniffing and apply the callback\n",
    "sniff(filter=\"tcp\", prn=packet_callback, count=1000)\n"
   ]
  },
  {
   "cell_type": "code",
   "execution_count": null,
   "id": "a30f4e66-55d9-4ae4-8493-620f6422fa6a",
   "metadata": {},
   "outputs": [],
   "source": []
  }
 ],
 "metadata": {
  "kernelspec": {
   "display_name": "Python 3 (ipykernel)",
   "language": "python",
   "name": "python3"
  },
  "language_info": {
   "codemirror_mode": {
    "name": "ipython",
    "version": 3
   },
   "file_extension": ".py",
   "mimetype": "text/x-python",
   "name": "python",
   "nbconvert_exporter": "python",
   "pygments_lexer": "ipython3",
   "version": "3.12.4"
  }
 },
 "nbformat": 4,
 "nbformat_minor": 5
}
